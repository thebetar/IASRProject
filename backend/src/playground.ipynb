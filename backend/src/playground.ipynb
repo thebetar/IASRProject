{
 "cells": [
  {
   "cell_type": "code",
   "execution_count": 16,
   "metadata": {},
   "outputs": [],
   "source": [
    "# Import libraries\n",
    "import os\n",
    "import librosa\n",
    "import csv\n",
    "import numpy as np\n",
    "import pandas as pd\n",
    "from sklearn import preprocessing"
   ]
  },
  {
   "cell_type": "code",
   "execution_count": 17,
   "metadata": {},
   "outputs": [],
   "source": [
    "# Read file names\n",
    "path = os.path\n",
    "files = {}\n",
    "\n",
    "data_dir = os.listdir(\n",
    "    path.join(os.getcwd(), '..', 'data')\n",
    ")\n",
    "\n",
    "for dir in data_dir:\n",
    "    audio_files = os.listdir(\n",
    "        path.join(os.getcwd(), '..', 'data', dir)\n",
    "    )\n",
    "\n",
    "    files[dir] = []\n",
    "    files[dir].append(audio_files)"
   ]
  },
  {
   "cell_type": "code",
   "execution_count": 18,
   "metadata": {},
   "outputs": [],
   "source": [
    "# Read audio signals and normalise\n",
    "data = []\n",
    "feature_count = 6\n",
    "labels = ['label', 'feature 1', 'feature 2', 'feature 3', 'feature 4', 'feature 5', 'feature 6']\n",
    "\n",
    "result = []\n",
    "\n",
    "def normalise(dataframe):\n",
    "    data_labels = dataframe['label']\n",
    "    \n",
    "    values = dataframe.values[:, 1:]\n",
    "    min_max_scaler = preprocessing.MinMaxScaler()\n",
    "    normalised_data = min_max_scaler.fit_transform(values)\n",
    "\n",
    "    normalised_data_with_labels = np.concatenate((data_labels.values.reshape(-1, 1), normalised_data), axis=1)\n",
    "\n",
    "    return pd.DataFrame(normalised_data_with_labels, columns=labels)\n",
    "\n",
    "for dir in files:\n",
    "    for file in files[dir][0]:\n",
    "        audio, sr = librosa.core.load(\n",
    "            path.join(os.getcwd(), '..', 'data', dir, file)\n",
    "        )\n",
    "\n",
    "        audio_data = [dir] + list(audio)\n",
    "\n",
    "        result.append(audio_data[0:feature_count + 1])\n",
    "\n",
    "data = pd.DataFrame(result, columns=labels)\n",
    "normalised_data = normalise(data)\n",
    "\n",
    "normalised_data.to_csv('data.csv', index=False)"
   ]
  }
 ],
 "metadata": {
  "kernelspec": {
   "display_name": "Python 3",
   "language": "python",
   "name": "python3"
  },
  "language_info": {
   "codemirror_mode": {
    "name": "ipython",
    "version": 3
   },
   "file_extension": ".py",
   "mimetype": "text/x-python",
   "name": "python",
   "nbconvert_exporter": "python",
   "pygments_lexer": "ipython3",
   "version": "3.10.12"
  }
 },
 "nbformat": 4,
 "nbformat_minor": 2
}
