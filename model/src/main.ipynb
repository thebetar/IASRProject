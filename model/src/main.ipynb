{
 "cells": [
  {
   "cell_type": "markdown",
   "metadata": {},
   "source": [
    "IMPORT LIBRARIES"
   ]
  },
  {
   "cell_type": "code",
   "execution_count": 1,
   "metadata": {},
   "outputs": [],
   "source": [
    "# Import libraries\n",
    "import os\n",
    "import librosa\n",
    "import csv\n",
    "import numpy as np\n",
    "import matplotlib.pyplot as plt\n",
    "from scipy.signal import argrelextrema\n",
    "import sounddevice as sd\n",
    "from sklearn.model_selection import train_test_split\n",
    "from sklearn import metrics\n",
    "from tqdm import tqdm\n",
    "from random import shuffle\n",
    "from IPython.display import clear_output\n",
    "\n",
    "import torch\n",
    "import torch.nn as nn\n",
    "import torch.nn.functional as F\n",
    "import torch.optim as optim\n"
   ]
  },
  {
   "cell_type": "markdown",
   "metadata": {},
   "source": [
    "TASK 1: Read wav files and create numpy array of them"
   ]
  },
  {
   "cell_type": "markdown",
   "metadata": {},
   "source": [
    "    TASK 1.1 Get voiced parts"
   ]
  },
  {
   "cell_type": "code",
   "execution_count": 2,
   "metadata": {},
   "outputs": [],
   "source": [
    "def get_auto_correlation(clip, FRAME_SIZE = 100):\n",
    "    bins = np.zeros(FRAME_SIZE)\n",
    "    for i in range(0, FRAME_SIZE):\n",
    "        for j in range(0, FRAME_SIZE-i):\n",
    "            bins[i] += (clip[j] * clip[j+i])\n",
    "    return bins\n",
    "\n",
    "#doesnt work perfectly - it doesnt connect all parts of audio\n",
    "def get_voiced_parts(clip, sr, FRAME_SIZE = 100):\n",
    "    IS_CURR_VOICED = False\n",
    "\n",
    "    MAX_NUM_FRAMES = 25\n",
    "    START_NUM_FRAMES = 20\n",
    "    MIN_NUM_OF_SAMPLES_IN_SEGMENT = 0.2 * sr\n",
    "    MIN_RMS = 0.05\n",
    "\n",
    "    voiced_counter = 0\n",
    "    start_of_segment = -1\n",
    "    end_of_segment = -1\n",
    "    end_of_checking = (len(clip)//FRAME_SIZE-1) * FRAME_SIZE\n",
    "\n",
    "    for i in range(0, end_of_checking, FRAME_SIZE):\n",
    "        #for each frame\n",
    "        bins = np.zeros(FRAME_SIZE)\n",
    "        bins = get_auto_correlation(clip[i:i+FRAME_SIZE], FRAME_SIZE)\n",
    "        #plt.stem(bins)\n",
    "        maximums = np.diff(argrelextrema(bins, np.greater))\n",
    "        median_maximums = np.median(maximums)\n",
    "        #if median maximus in some boudaries\n",
    "        if median_maximums >= 7 and median_maximums <= 20 and np.std(maximums) < 7:\n",
    "            voiced_counter = min(voiced_counter + 1, MAX_NUM_FRAMES)\n",
    "\n",
    "            if not IS_CURR_VOICED:\n",
    "                voiced_counter = START_NUM_FRAMES\n",
    "                IS_CURR_VOICED = True\n",
    "                start_of_segment = i\n",
    "        else:\n",
    "            voiced_counter = max(0, voiced_counter - 1)\n",
    "\n",
    "            if voiced_counter == 0 and IS_CURR_VOICED:\n",
    "                IS_CURR_VOICED = False\n",
    "                end_of_segment = i\n",
    "                #if too short\n",
    "                if end_of_segment - start_of_segment < MIN_NUM_OF_SAMPLES_IN_SEGMENT:\n",
    "                    continue \n",
    "                rms = np.sqrt(np.mean(clip[start_of_segment:end_of_segment]**2))\n",
    "                if rms < MIN_RMS:\n",
    "                    continue\n",
    "                return clip[start_of_segment: end_of_segment]\n",
    "\n",
    "    end_of_segment = len(clip)\n",
    "    \n",
    "    if IS_CURR_VOICED and ((end_of_segment - start_of_segment) > MIN_NUM_OF_SAMPLES_IN_SEGMENT):\n",
    "        return clip[start_of_segment: end_of_segment]       \n",
    "    return None\n",
    "\n",
    "    "
   ]
  },
  {
   "cell_type": "markdown",
   "metadata": {},
   "source": [
    "TESTING !!!!"
   ]
  },
  {
   "cell_type": "code",
   "execution_count": 3,
   "metadata": {},
   "outputs": [
    {
     "name": "stderr",
     "output_type": "stream",
     "text": [
      "/home/larsvonk/.local/lib/python3.10/site-packages/numpy/core/fromnumeric.py:3504: RuntimeWarning: Mean of empty slice.\n",
      "  return _methods._mean(a, axis=axis, dtype=dtype,\n",
      "/home/larsvonk/.local/lib/python3.10/site-packages/numpy/core/_methods.py:129: RuntimeWarning: invalid value encountered in scalar divide\n",
      "  ret = ret.dtype.type(ret / rcount)\n"
     ]
    },
    {
     "name": "stdout",
     "output_type": "stream",
     "text": [
      "0.4875 1.0125\n"
     ]
    },
    {
     "data": {
      "image/png": "[encoded data removed]",
      "text/plain": [
       "<Figure size 640x480 with 1 Axes>"
      ]
     },
     "metadata": {},
     "output_type": "display_data"
    }
   ],
   "source": [
    "#trying to detect spoken parts with outocorrleation\n",
    "new_sr = 8000\n",
    "clip, sr = librosa.load(\"../data/six/anja_3.wav\")\n",
    "clip = librosa.resample(clip, orig_sr=sr, target_sr=new_sr)\n",
    "clip = librosa.to_mono(clip)\n",
    "clip = librosa.util.normalize(clip)\n",
    "\n",
    "IS_CURR_VOICED = False\n",
    "\n",
    "MAX_NUM_FRAMES = 25\n",
    "START_NUM_FRAMES = 20\n",
    "MIN_NUM_OF_SAMPLES_IN_SEGMENT = 0.2 * new_sr\n",
    "MIN_RMS = 0.05\n",
    "\n",
    "voiced_counter = 0\n",
    "start_of_segment = -1\n",
    "end_of_segment = -1\n",
    "FRAME_SIZE = 100\n",
    "len_clip_in_frames = len(clip) // FRAME_SIZE - 1\n",
    "end_of_checking = len_clip_in_frames * FRAME_SIZE\n",
    "out = np.zeros(len_clip_in_frames)\n",
    "curr_voiced_over_time = np.zeros(len_clip_in_frames)\n",
    "\n",
    "for i in range(0, end_of_checking, FRAME_SIZE):\n",
    "    #for each frame\n",
    "    bins = np.zeros(FRAME_SIZE)\n",
    "    bins = get_auto_correlation(clip[i:i+FRAME_SIZE], FRAME_SIZE)\n",
    "    #plt.stem(bins)\n",
    "    maximums = np.diff(argrelextrema(bins, np.greater))\n",
    "    median_maximums = np.median(maximums)\n",
    "    #if median maximus in some boudaries\n",
    "    if median_maximums >= 7 and median_maximums <= 20 and np.std(maximums) < 7:\n",
    "        out[i//FRAME_SIZE] = 1\n",
    "        voiced_counter = min(voiced_counter + 1,MAX_NUM_FRAMES)\n",
    "        if  not IS_CURR_VOICED:\n",
    "            voiced_counter = START_NUM_FRAMES\n",
    "            IS_CURR_VOICED = True\n",
    "            start_of_segment = i\n",
    "    else:\n",
    "        voiced_counter = max(0, voiced_counter-1)\n",
    "\n",
    "        if voiced_counter == 0 and IS_CURR_VOICED:\n",
    "            IS_CURR_VOICED = False\n",
    "            end_of_segment = i\n",
    "            #if too short\n",
    "            if end_of_segment - start_of_segment < MIN_NUM_OF_SAMPLES_IN_SEGMENT:\n",
    "                continue\n",
    "\n",
    "            rms = np.sqrt(np.mean(clip[start_of_segment:end_of_segment]**2))\n",
    "            if rms < MIN_RMS:\n",
    "                continue\n",
    "\n",
    "            a = clip[start_of_segment: end_of_segment]\n",
    "            print(start_of_segment/new_sr, end_of_segment/new_sr)\n",
    "            plt.axvline(start_of_segment, color='g')\n",
    "            plt.axvline(end_of_segment, color='g')\n",
    "\n",
    "    #plt.show() \n",
    "\n",
    "    curr_voiced_over_time[i//FRAME_SIZE] = voiced_counter\n",
    "end_of_segment = len(clip)\n",
    "if IS_CURR_VOICED and ((end_of_segment - start_of_segment) > MIN_NUM_OF_SAMPLES_IN_SEGMENT):\n",
    "    plt.axvline(start_of_segment, color='g')\n",
    "    plt.axvline(end_of_segment, color='g')\n",
    "    print(end_of_segment - start_of_segment)\n",
    "#print(start_of_segment/new_sr, end_of_segment/new_sr)\n",
    "plt.stem(np.repeat(out, FRAME_SIZE)*0.5, 'r')\n",
    "plt.plot(clip)\n",
    "\n",
    "plt.plot(np.repeat(curr_voiced_over_time, FRAME_SIZE)*0.1, 'k')\n",
    "sd.play(a, 8000)\n",
    "#print(maximums)\n",
    "#plt.plot(clip)"
   ]
  },
  {
   "cell_type": "markdown",
   "metadata": {},
   "source": [
    "    TASK 1.2 Normalize between -1 and 1"
   ]
  },
  {
   "cell_type": "markdown",
   "metadata": {},
   "source": [
    "TASK 2. FEATURE EXTRACTION"
   ]
  },
  {
   "cell_type": "markdown",
   "metadata": {},
   "source": [
    "    TASK 2.1 Preemphasis filter"
   ]
  },
  {
   "cell_type": "code",
   "execution_count": 4,
   "metadata": {},
   "outputs": [],
   "source": [
    "def add_preemphasis_filter(x, coeff=0.95):\n",
    "    x = librosa.effects.preemphasis(x, coef = coeff)\n",
    "    return x"
   ]
  },
  {
   "cell_type": "markdown",
   "metadata": {},
   "source": [
    "    TASK 2.2 Create MFCC of samles of uniform size (30, 80)"
   ]
  },
  {
   "cell_type": "code",
   "execution_count": 5,
   "metadata": {},
   "outputs": [],
   "source": [
    "def get_2d_features(y, sr = 8000, wanted_width = 40):\n",
    "    y = add_preemphasis_filter(y)\n",
    "    #20 row mfcc, 20 row delta mfcc, 1 row pitch...\n",
    "    windows_size = len(y) // (wanted_width - 1)\n",
    "    mfcc = librosa.feature.mfcc(y=y, sr=sr, n_mels=20, n_fft=300, hop_length=windows_size, window='hamming')\n",
    "    delta_mfcc = librosa.feature.delta(mfcc)\n",
    "    mfcc = np.concatenate((mfcc, delta_mfcc, ), axis=0)\n",
    "    return mfcc"
   ]
  },
  {
   "cell_type": "code",
   "execution_count": 6,
   "metadata": {},
   "outputs": [],
   "source": [
    "def get_1d_features(y, sr = 8000, wanted_width = 5):\n",
    "    windows_size = len(y)//(wanted_width - 1)\n",
    "    #coeffients of polynomial fitting frequency information over time\n",
    "    polly_coeff = librosa.feature.poly_features(y=y, sr=sr, order=0, n_fft=1024, hop_length=windows_size, window='hamming')[0]\n",
    "    #how many times do signal cross zero\n",
    "    zero_cross = librosa.feature.zero_crossing_rate(y=y, frame_length=1024, hop_length=windows_size)[0]\n",
    "    #tone vs noise level in each windows\n",
    "    tone_vs_noise = librosa.feature.spectral_flatness(y=y, n_fft=1024, hop_length=windows_size)[0]\n",
    "    \n",
    "    return np.concatenate((polly_coeff, zero_cross, tone_vs_noise), axis=0)"
   ]
  },
  {
   "cell_type": "markdown",
   "metadata": {},
   "source": [
    "        TESTING!"
   ]
  },
  {
   "cell_type": "code",
   "execution_count": 7,
   "metadata": {},
   "outputs": [
    {
     "name": "stdout",
     "output_type": "stream",
     "text": [
      "[1.96106221 2.7488533  0.65854726 0.09661637 0.32039525 0.22558594\n",
      " 0.5        0.52734375 0.59082031 0.30566406 0.14811699 0.03635823\n",
      " 0.0411064  0.3276951  0.31542945]\n"
     ]
    },
    {
     "data": {
      "image/png": "[encoded data removed]",
      "text/plain": [
       "<Figure size 640x480 with 1 Axes>"
      ]
     },
     "metadata": {},
     "output_type": "display_data"
    },
    {
     "data": {
      "image/png": "[encoded data removed]",
      "text/plain": [
       "<Figure size 640x480 with 1 Axes>"
      ]
     },
     "metadata": {},
     "output_type": "display_data"
    },
    {
     "data": {
      "image/png": "[encoded data removed]",
      "text/plain": [
       "<Figure size 640x480 with 1 Axes>"
      ]
     },
     "metadata": {},
     "output_type": "display_data"
    },
    {
     "name": "stderr",
     "output_type": "stream",
     "text": [
      "/tmp/ipykernel_28986/1524851412.py:33: RuntimeWarning: invalid value encountered in log10\n",
      "  plt.imshow(np.log10(features))\n"
     ]
    },
    {
     "data": {
      "image/png": "[encoded data removed]",
      "text/plain": [
       "<Figure size 640x480 with 1 Axes>"
      ]
     },
     "metadata": {},
     "output_type": "display_data"
    }
   ],
   "source": [
    "new_sr = 8000\n",
    "clip, sr = librosa.load(\"../data/eight/luka_3.wav\")\n",
    "clip = librosa.resample(clip, orig_sr=sr, target_sr=new_sr)\n",
    "clip = librosa.to_mono(clip)\n",
    "clip = librosa.util.normalize(clip)\n",
    "clip = get_voiced_parts(clip, new_sr)\n",
    "clip = add_preemphasis_filter(clip)\n",
    "features = get_2d_features(clip, new_sr)\n",
    "\n",
    "\n",
    "print(get_1d_features(clip))\n",
    "\n",
    "sd.play(clip, new_sr)\n",
    "sd.wait()\n",
    "\n",
    "plt.plot(clip)\n",
    "plt.show()\n",
    "plt.imshow(features[:20], cmap='hot', interpolation='nearest')\n",
    "\n",
    "# Features from mfcc\n",
    "## Index of sample to observe\n",
    "INDEX = 2\n",
    "\n",
    "## MFCC features\n",
    "plt.imshow(features[:20])\n",
    "plt.show()\n",
    "\n",
    "## Delta MFCC features\n",
    "plt.imshow(features[21:])\n",
    "plt.show()\n",
    "\n",
    "## Logarithmic MFCC features\n",
    "plt.imshow(np.log10(features))\n",
    "plt.show()"
   ]
  },
  {
   "cell_type": "markdown",
   "metadata": {},
   "source": [
    "    TASK 2.3 Other feutures -TODO"
   ]
  },
  {
   "cell_type": "markdown",
   "metadata": {},
   "source": [
    "Here we see the example main function to create train/validate and test set"
   ]
  },
  {
   "cell_type": "code",
   "execution_count": 8,
   "metadata": {},
   "outputs": [],
   "source": [
    "def make_train_data(directory):\n",
    "    training_data = []\n",
    "    labels = []\n",
    "    eye_in = 0\n",
    "    NUM_CATEGORIES = len(os.listdir(directory))-2#TODO MAKE THIS BETTER\n",
    "    #get all subdirectories in directory\n",
    "    for category in os.listdir(directory):\n",
    "        if category[0] == '.':\n",
    "            print(\"skipping {}\".format(category))\n",
    "            continue\n",
    "        print(category)\n",
    "        labels.append(category)\n",
    "        path = os.path.join(directory, category)\n",
    "        for file in os.listdir(path):\n",
    "            try:\n",
    "                #Fs, audio = wavfile.read(os.path.join(path, file))\n",
    "                clip, sr = librosa.load(os.path.join(path, file))\n",
    "                clip = librosa.resample(clip, orig_sr=sr, target_sr=8000)\n",
    "                clip = librosa.to_mono(clip)\n",
    "\n",
    "                clip = librosa.util.normalize(clip)\n",
    "                clip = get_voiced_parts(clip,8000)\n",
    "\n",
    "                if(clip is None):\n",
    "                    print(\"{} not good\".format(os.path.join(path, file)))\n",
    "                    continue\n",
    "\n",
    "                features_2d = get_2d_features(clip)\n",
    "                features_1d = get_1d_features(clip)\n",
    "\n",
    "                training_data.append([features_2d, features_1d, np.eye(NUM_CATEGORIES)[eye_in]])\n",
    "            except Exception as e:\n",
    "                print(e)\n",
    "                pass\n",
    "        eye_in += 1\n",
    "    \n",
    "    np.random.shuffle(training_data)\n",
    "    training_data = np.array(training_data, dtype=object)\n",
    "\n",
    "    # Split the features and labels\n",
    "    X_2d = np.array([i[0] for i in training_data])\n",
    "    X_1d = np.array([i[1] for i in training_data])\n",
    "    y = np.array([i[2] for i in training_data])\n",
    "\n",
    "    # Split the data into training and test sets\n",
    "    X_2d_train, X_2d_test, X_1d_train, X_1d_test, y_train, y_test = train_test_split(X_2d, X_1d, y, test_size=0.15, random_state=42)\n",
    "\n",
    "    return np.array(labels), X_2d_train, X_2d_test, X_1d_train, X_1d_test, y_train, y_test\n"
   ]
  },
  {
   "cell_type": "markdown",
   "metadata": {},
   "source": [
    "Train reduced data"
   ]
  },
  {
   "cell_type": "code",
   "execution_count": 9,
   "metadata": {},
   "outputs": [],
   "source": [
    "# DOES NOT WORK reduced_data removed\n",
    "# labels, X_2d_train, X_2d_test, X_1d_train, X_1d_test, y_train, y_test = make_train_data(os.path.join(os.getcwd(), \"..\", \"reduced_data\"))\n",
    "\n",
    "# np.savez(\"training_data_reduced.npz\", labels=labels, X_2d_train=X_2d_train, X_2d_test=X_2d_test, X_1d_train=X_1d_train, X_1d_test=X_1d_test, y_train=y_train, y_test=y_test)"
   ]
  },
  {
   "cell_type": "markdown",
   "metadata": {},
   "source": [
    "Train all data"
   ]
  },
  {
   "cell_type": "code",
   "execution_count": 10,
   "metadata": {},
   "outputs": [
    {
     "name": "stdout",
     "output_type": "stream",
     "text": [
      "seven\n"
     ]
    },
    {
     "name": "stderr",
     "output_type": "stream",
     "text": [
      "/home/larsvonk/.local/lib/python3.10/site-packages/numpy/core/fromnumeric.py:3504: RuntimeWarning: Mean of empty slice.\n",
      "  return _methods._mean(a, axis=axis, dtype=dtype,\n",
      "/home/larsvonk/.local/lib/python3.10/site-packages/numpy/core/_methods.py:129: RuntimeWarning: invalid value encountered in scalar divide\n",
      "  ret = ret.dtype.type(ret / rcount)\n"
     ]
    },
    {
     "name": "stdout",
     "output_type": "stream",
     "text": [
      "zero\n",
      "/home/larsvonk/Projects/IASRProject/model/src/../data/zero/theo_32.wav not good\n",
      "/home/larsvonk/Projects/IASRProject/model/src/../data/zero/nicolas_38.wav not good\n",
      "/home/larsvonk/Projects/IASRProject/model/src/../data/zero/theo_48.wav not good\n",
      "minus\n",
      "/home/larsvonk/Projects/IASRProject/model/src/../data/minus/curi_44.wav not good\n",
      "/home/larsvonk/Projects/IASRProject/model/src/../data/minus/curi_03.wav not good\n"
     ]
    },
    {
     "name": "stderr",
     "output_type": "stream",
     "text": [
      "Note: Illegal Audio-MPEG-Header 0x3030332c at offset 75840.\n",
      "Note: Trying to resync...\n",
      "Note: Hit end of (available) data during resync.\n"
     ]
    },
    {
     "name": "stdout",
     "output_type": "stream",
     "text": [
      "/home/larsvonk/Projects/IASRProject/model/src/../data/minus/curi_26.wav not good\n"
     ]
    },
    {
     "name": "stderr",
     "output_type": "stream",
     "text": [
      "Note: Illegal Audio-MPEG-Header 0x3034302c at offset 63360.\n",
      "Note: Trying to resync...\n",
      "Note: Hit end of (available) data during resync.\n"
     ]
    },
    {
     "name": "stdout",
     "output_type": "stream",
     "text": [
      "/home/larsvonk/Projects/IASRProject/model/src/../data/minus/wengie_33.wav not good\n",
      "/home/larsvonk/Projects/IASRProject/model/src/../data/minus/minus-Yuhan-2.wav not good\n"
     ]
    },
    {
     "name": "stderr",
     "output_type": "stream",
     "text": [
      "Note: Illegal Audio-MPEG-Header 0x372c3532 at offset 77760.\n",
      "Note: Trying to resync...\n",
      "Note: Hit end of (available) data during resync.\n",
      "Note: Illegal Audio-MPEG-Header 0x342c3230 at offset 82560.\n",
      "Note: Trying to resync...\n",
      "Note: Hit end of (available) data during resync.\n",
      "Note: Illegal Audio-MPEG-Header 0x322c3439 at offset 89280.\n",
      "Note: Trying to resync...\n",
      "Note: Hit end of (available) data during resync.\n"
     ]
    },
    {
     "name": "stdout",
     "output_type": "stream",
     "text": [
      "three\n",
      "/home/larsvonk/Projects/IASRProject/model/src/../data/three/theo_10.wav not good\n",
      "/home/larsvonk/Projects/IASRProject/model/src/../data/three/nicolas_41.wav not good\n",
      "/home/larsvonk/Projects/IASRProject/model/src/../data/three/nicolas_2.wav not good\n",
      "/home/larsvonk/Projects/IASRProject/model/src/../data/three/theo_6.wav not good\n",
      "/home/larsvonk/Projects/IASRProject/model/src/../data/three/nicolas_40.wav not good\n",
      "/home/larsvonk/Projects/IASRProject/model/src/../data/three/theo_4.wav not good\n",
      "/home/larsvonk/Projects/IASRProject/model/src/../data/three/theo_12.wav not good\n",
      "/home/larsvonk/Projects/IASRProject/model/src/../data/three/theo_8.wav not good\n",
      "/home/larsvonk/Projects/IASRProject/model/src/../data/three/nicolas_10.wav not good\n",
      "/home/larsvonk/Projects/IASRProject/model/src/../data/three/nicolas_43.wav not good\n",
      "/home/larsvonk/Projects/IASRProject/model/src/../data/three/nicolas_5.wav not good\n",
      "/home/larsvonk/Projects/IASRProject/model/src/../data/three/aditya_1.wav not good\n",
      "/home/larsvonk/Projects/IASRProject/model/src/../data/three/nicolas_14.wav not good\n",
      "/home/larsvonk/Projects/IASRProject/model/src/../data/three/nicolas_4.wav not good\n",
      "/home/larsvonk/Projects/IASRProject/model/src/../data/three/nicolas_39.wav not good\n",
      "/home/larsvonk/Projects/IASRProject/model/src/../data/three/nicolas_20.wav not good\n",
      "/home/larsvonk/Projects/IASRProject/model/src/../data/three/theo_19.wav not good\n",
      "/home/larsvonk/Projects/IASRProject/model/src/../data/three/nicolas_11.wav not good\n",
      "/home/larsvonk/Projects/IASRProject/model/src/../data/three/nicolas_44.wav not good\n",
      "/home/larsvonk/Projects/IASRProject/model/src/../data/three/jackson_6.wav not good\n",
      "/home/larsvonk/Projects/IASRProject/model/src/../data/three/jackson_5.wav not good\n",
      "/home/larsvonk/Projects/IASRProject/model/src/../data/three/theo_44.wav not good\n",
      "/home/larsvonk/Projects/IASRProject/model/src/../data/three/nicolas_18.wav not good\n",
      "/home/larsvonk/Projects/IASRProject/model/src/../data/three/nicolas_37.wav not good\n",
      "/home/larsvonk/Projects/IASRProject/model/src/../data/three/nicolas_36.wav not good\n",
      "/home/larsvonk/Projects/IASRProject/model/src/../data/three/nicolas_32.wav not good\n",
      "/home/larsvonk/Projects/IASRProject/model/src/../data/three/nicolas_13.wav not good\n",
      "/home/larsvonk/Projects/IASRProject/model/src/../data/three/nicolas_26.wav not good\n",
      "/home/larsvonk/Projects/IASRProject/model/src/../data/three/theo_0.wav not good\n",
      "/home/larsvonk/Projects/IASRProject/model/src/../data/three/nicolas_8.wav not good\n",
      "/home/larsvonk/Projects/IASRProject/model/src/../data/three/theo_3.wav not good\n",
      "/home/larsvonk/Projects/IASRProject/model/src/../data/three/nicolas_47.wav not good\n",
      "/home/larsvonk/Projects/IASRProject/model/src/../data/three/yweweler_31.wav not good\n",
      "/home/larsvonk/Projects/IASRProject/model/src/../data/three/theo_5.wav not good\n",
      "/home/larsvonk/Projects/IASRProject/model/src/../data/three/nicolas_35.wav not good\n",
      "/home/larsvonk/Projects/IASRProject/model/src/../data/three/theo_34.wav not good\n",
      "/home/larsvonk/Projects/IASRProject/model/src/../data/three/nicolas_38.wav not good\n",
      "/home/larsvonk/Projects/IASRProject/model/src/../data/three/nicolas_6.wav not good\n",
      "/home/larsvonk/Projects/IASRProject/model/src/../data/three/yweweler_8.wav not good\n",
      "/home/larsvonk/Projects/IASRProject/model/src/../data/three/nicolas_16.wav not good\n",
      "/home/larsvonk/Projects/IASRProject/model/src/../data/three/nicolas_48.wav not good\n",
      "/home/larsvonk/Projects/IASRProject/model/src/../data/three/nicolas_31.wav not good\n",
      "/home/larsvonk/Projects/IASRProject/model/src/../data/three/nicolas_7.wav not good\n",
      "/home/larsvonk/Projects/IASRProject/model/src/../data/three/nicolas_28.wav not good\n",
      "/home/larsvonk/Projects/IASRProject/model/src/../data/three/theo_17.wav not good\n",
      "/home/larsvonk/Projects/IASRProject/model/src/../data/three/nicolas_45.wav not good\n",
      "/home/larsvonk/Projects/IASRProject/model/src/../data/three/nicolas_22.wav not good\n",
      "/home/larsvonk/Projects/IASRProject/model/src/../data/three/nicolas_17.wav not good\n",
      "/home/larsvonk/Projects/IASRProject/model/src/../data/three/theo_16.wav not good\n",
      "/home/larsvonk/Projects/IASRProject/model/src/../data/three/yweweler_38.wav not good\n",
      "/home/larsvonk/Projects/IASRProject/model/src/../data/three/nicolas_19.wav not good\n",
      "/home/larsvonk/Projects/IASRProject/model/src/../data/three/nicolas_3.wav not good\n",
      "/home/larsvonk/Projects/IASRProject/model/src/../data/three/theo_1.wav not good\n",
      "/home/larsvonk/Projects/IASRProject/model/src/../data/three/nicolas_30.wav not good\n",
      "/home/larsvonk/Projects/IASRProject/model/src/../data/three/theo_11.wav not good\n",
      "one\n",
      "/home/larsvonk/Projects/IASRProject/model/src/../data/one/theo_4.wav not good\n",
      "/home/larsvonk/Projects/IASRProject/model/src/../data/one/theo_2.wav not good\n",
      "/home/larsvonk/Projects/IASRProject/model/src/../data/one/theo_45.wav not good\n",
      "/home/larsvonk/Projects/IASRProject/model/src/../data/one/theo_41.wav not good\n",
      "/home/larsvonk/Projects/IASRProject/model/src/../data/one/theo_1.wav not good\n",
      "eight\n",
      "/home/larsvonk/Projects/IASRProject/model/src/../data/eight/aditya_5.wav not good\n",
      "/home/larsvonk/Projects/IASRProject/model/src/../data/eight/yweweler_49.wav not good\n",
      "/home/larsvonk/Projects/IASRProject/model/src/../data/eight/theo_40.wav not good\n",
      "/home/larsvonk/Projects/IASRProject/model/src/../data/eight/theo_42.wav not good\n",
      "/home/larsvonk/Projects/IASRProject/model/src/../data/eight/nicolas_0.wav not good\n",
      "/home/larsvonk/Projects/IASRProject/model/src/../data/eight/aditya_3.wav not good\n",
      "/home/larsvonk/Projects/IASRProject/model/src/../data/eight/yweweler_19.wav not good\n",
      "/home/larsvonk/Projects/IASRProject/model/src/../data/eight/yweweler_43.wav not good\n",
      "/home/larsvonk/Projects/IASRProject/model/src/../data/eight/yweweler_42.wav not good\n",
      "/home/larsvonk/Projects/IASRProject/model/src/../data/eight/yweweler_17.wav not good\n",
      "five\n",
      "skipping .divide\n",
      "two\n",
      "/home/larsvonk/Projects/IASRProject/model/src/../data/two/jackson_7.wav not good\n",
      "/home/larsvonk/Projects/IASRProject/model/src/../data/two/theo_30.wav not good\n",
      "/home/larsvonk/Projects/IASRProject/model/src/../data/two/jackson_12.wav not good\n",
      "/home/larsvonk/Projects/IASRProject/model/src/../data/two/theo_37.wav not good\n",
      "/home/larsvonk/Projects/IASRProject/model/src/../data/two/theo_10.wav not good\n",
      "/home/larsvonk/Projects/IASRProject/model/src/../data/two/nicolas_41.wav not good\n",
      "/home/larsvonk/Projects/IASRProject/model/src/../data/two/nicolas_2.wav not good\n",
      "/home/larsvonk/Projects/IASRProject/model/src/../data/two/nicolas_27.wav not good\n",
      "/home/larsvonk/Projects/IASRProject/model/src/../data/two/theo_25.wav not good\n",
      "/home/larsvonk/Projects/IASRProject/model/src/../data/two/theo_6.wav not good\n",
      "/home/larsvonk/Projects/IASRProject/model/src/../data/two/jackson_30.wav not good\n",
      "/home/larsvonk/Projects/IASRProject/model/src/../data/two/nicolas_40.wav not good\n",
      "/home/larsvonk/Projects/IASRProject/model/src/../data/two/theo_4.wav not good\n",
      "/home/larsvonk/Projects/IASRProject/model/src/../data/two/jackson_9.wav not good\n",
      "/home/larsvonk/Projects/IASRProject/model/src/../data/two/theo_45.wav not good\n",
      "/home/larsvonk/Projects/IASRProject/model/src/../data/two/yweweler_24.wav not good\n",
      "/home/larsvonk/Projects/IASRProject/model/src/../data/two/theo_27.wav not good\n",
      "/home/larsvonk/Projects/IASRProject/model/src/../data/two/theo_12.wav not good\n",
      "/home/larsvonk/Projects/IASRProject/model/src/../data/two/theo_24.wav not good\n",
      "/home/larsvonk/Projects/IASRProject/model/src/../data/two/theo_8.wav not good\n",
      "/home/larsvonk/Projects/IASRProject/model/src/../data/two/jackson_46.wav not good\n",
      "/home/larsvonk/Projects/IASRProject/model/src/../data/two/theo_7.wav not good\n",
      "/home/larsvonk/Projects/IASRProject/model/src/../data/two/theo_32.wav not good\n",
      "/home/larsvonk/Projects/IASRProject/model/src/../data/two/theo_40.wav not good\n",
      "/home/larsvonk/Projects/IASRProject/model/src/../data/two/theo_49.wav not good\n",
      "/home/larsvonk/Projects/IASRProject/model/src/../data/two/nicolas_10.wav not good\n",
      "/home/larsvonk/Projects/IASRProject/model/src/../data/two/nicolas_43.wav not good\n",
      "/home/larsvonk/Projects/IASRProject/model/src/../data/two/yweweler_47.wav not good\n",
      "/home/larsvonk/Projects/IASRProject/model/src/../data/two/nicolas_5.wav not good\n",
      "/home/larsvonk/Projects/IASRProject/model/src/../data/two/theo_42.wav not good\n",
      "/home/larsvonk/Projects/IASRProject/model/src/../data/two/yweweler_10.wav not good\n",
      "/home/larsvonk/Projects/IASRProject/model/src/../data/two/nicolas_14.wav not good\n",
      "/home/larsvonk/Projects/IASRProject/model/src/../data/two/nicolas_4.wav not good\n",
      "/home/larsvonk/Projects/IASRProject/model/src/../data/two/nicolas_39.wav not good\n",
      "/home/larsvonk/Projects/IASRProject/model/src/../data/two/nicolas_23.wav not good\n",
      "/home/larsvonk/Projects/IASRProject/model/src/../data/two/nicolas_0.wav not good\n",
      "/home/larsvonk/Projects/IASRProject/model/src/../data/two/theo_18.wav not good\n",
      "/home/larsvonk/Projects/IASRProject/model/src/../data/two/nicolas_20.wav not good\n",
      "/home/larsvonk/Projects/IASRProject/model/src/../data/two/theo_36.wav not good\n",
      "/home/larsvonk/Projects/IASRProject/model/src/../data/two/nicolas_11.wav not good\n",
      "/home/larsvonk/Projects/IASRProject/model/src/../data/two/nicolas_44.wav not good\n",
      "/home/larsvonk/Projects/IASRProject/model/src/../data/two/theo_46.wav not good\n",
      "/home/larsvonk/Projects/IASRProject/model/src/../data/two/theo_44.wav not good\n",
      "/home/larsvonk/Projects/IASRProject/model/src/../data/two/nicolas_18.wav not good\n",
      "/home/larsvonk/Projects/IASRProject/model/src/../data/two/luka_3.wav not good\n",
      "/home/larsvonk/Projects/IASRProject/model/src/../data/two/nicolas_15.wav not good\n",
      "/home/larsvonk/Projects/IASRProject/model/src/../data/two/nicolas_37.wav not good\n",
      "/home/larsvonk/Projects/IASRProject/model/src/../data/two/jackson_26.wav not good\n",
      "/home/larsvonk/Projects/IASRProject/model/src/../data/two/nicolas_36.wav not good\n",
      "/home/larsvonk/Projects/IASRProject/model/src/../data/two/nicolas_46.wav not good\n",
      "/home/larsvonk/Projects/IASRProject/model/src/../data/two/nicolas_32.wav not good\n",
      "/home/larsvonk/Projects/IASRProject/model/src/../data/two/nicolas_33.wav not good\n",
      "/home/larsvonk/Projects/IASRProject/model/src/../data/two/nicolas_13.wav not good\n",
      "/home/larsvonk/Projects/IASRProject/model/src/../data/two/theo_43.wav not good\n",
      "/home/larsvonk/Projects/IASRProject/model/src/../data/two/theo_35.wav not good\n",
      "/home/larsvonk/Projects/IASRProject/model/src/../data/two/theo_41.wav not good\n",
      "/home/larsvonk/Projects/IASRProject/model/src/../data/two/nicolas_26.wav not good\n",
      "/home/larsvonk/Projects/IASRProject/model/src/../data/two/theo_0.wav not good\n",
      "/home/larsvonk/Projects/IASRProject/model/src/../data/two/jackson_23.wav not good\n",
      "/home/larsvonk/Projects/IASRProject/model/src/../data/two/theo_13.wav not good\n",
      "/home/larsvonk/Projects/IASRProject/model/src/../data/two/jackson_4.wav not good\n",
      "/home/larsvonk/Projects/IASRProject/model/src/../data/two/jackson_31.wav not good\n",
      "/home/larsvonk/Projects/IASRProject/model/src/../data/two/yweweler_20.wav not good\n",
      "/home/larsvonk/Projects/IASRProject/model/src/../data/two/luka_4.wav not good\n",
      "/home/larsvonk/Projects/IASRProject/model/src/../data/two/yweweler_2.wav not good\n",
      "/home/larsvonk/Projects/IASRProject/model/src/../data/two/nicolas_21.wav not good\n",
      "/home/larsvonk/Projects/IASRProject/model/src/../data/two/jackson_10.wav not good\n",
      "/home/larsvonk/Projects/IASRProject/model/src/../data/two/theo_39.wav not good\n",
      "/home/larsvonk/Projects/IASRProject/model/src/../data/two/yweweler_19.wav not good\n",
      "/home/larsvonk/Projects/IASRProject/model/src/../data/two/theo_3.wav not good\n",
      "/home/larsvonk/Projects/IASRProject/model/src/../data/two/nicolas_47.wav not good\n",
      "/home/larsvonk/Projects/IASRProject/model/src/../data/two/jackson_27.wav not good\n",
      "/home/larsvonk/Projects/IASRProject/model/src/../data/two/yweweler_31.wav not good\n",
      "/home/larsvonk/Projects/IASRProject/model/src/../data/two/theo_5.wav not good\n",
      "/home/larsvonk/Projects/IASRProject/model/src/../data/two/nicolas_35.wav not good\n",
      "/home/larsvonk/Projects/IASRProject/model/src/../data/two/theo_34.wav not good\n",
      "/home/larsvonk/Projects/IASRProject/model/src/../data/two/theo_47.wav not good\n",
      "/home/larsvonk/Projects/IASRProject/model/src/../data/two/yweweler_3.wav not good\n",
      "/home/larsvonk/Projects/IASRProject/model/src/../data/two/nicolas_49.wav not good\n",
      "/home/larsvonk/Projects/IASRProject/model/src/../data/two/nicolas_38.wav not good\n",
      "/home/larsvonk/Projects/IASRProject/model/src/../data/two/theo_15.wav not good\n",
      "/home/larsvonk/Projects/IASRProject/model/src/../data/two/theo_48.wav not good\n",
      "/home/larsvonk/Projects/IASRProject/model/src/../data/two/jackson_35.wav not good\n",
      "/home/larsvonk/Projects/IASRProject/model/src/../data/two/nicolas_6.wav not good\n",
      "/home/larsvonk/Projects/IASRProject/model/src/../data/two/yweweler_8.wav not good\n",
      "/home/larsvonk/Projects/IASRProject/model/src/../data/two/nicolas_25.wav not good\n",
      "/home/larsvonk/Projects/IASRProject/model/src/../data/two/jackson_32.wav not good\n",
      "/home/larsvonk/Projects/IASRProject/model/src/../data/two/nicolas_12.wav not good\n",
      "/home/larsvonk/Projects/IASRProject/model/src/../data/two/nicolas_16.wav not good\n",
      "/home/larsvonk/Projects/IASRProject/model/src/../data/two/theo_9.wav not good\n",
      "/home/larsvonk/Projects/IASRProject/model/src/../data/two/nicolas_48.wav not good\n",
      "/home/larsvonk/Projects/IASRProject/model/src/../data/two/nicolas_31.wav not good\n",
      "/home/larsvonk/Projects/IASRProject/model/src/../data/two/nicolas_7.wav not good\n",
      "/home/larsvonk/Projects/IASRProject/model/src/../data/two/nicolas_28.wav not good\n",
      "/home/larsvonk/Projects/IASRProject/model/src/../data/two/nicolas_45.wav not good\n",
      "/home/larsvonk/Projects/IASRProject/model/src/../data/two/theo_14.wav not good\n",
      "/home/larsvonk/Projects/IASRProject/model/src/../data/two/nicolas_22.wav not good\n",
      "/home/larsvonk/Projects/IASRProject/model/src/../data/two/nicolas_17.wav not good\n",
      "/home/larsvonk/Projects/IASRProject/model/src/../data/two/nicolas_3.wav not good\n",
      "/home/larsvonk/Projects/IASRProject/model/src/../data/two/theo_1.wav not good\n",
      "/home/larsvonk/Projects/IASRProject/model/src/../data/two/nicolas_1.wav not good\n",
      "/home/larsvonk/Projects/IASRProject/model/src/../data/two/jackson_43.wav not good\n",
      "/home/larsvonk/Projects/IASRProject/model/src/../data/two/nicolas_24.wav not good\n",
      "/home/larsvonk/Projects/IASRProject/model/src/../data/two/nicolas_29.wav not good\n",
      "/home/larsvonk/Projects/IASRProject/model/src/../data/two/nicolas_9.wav not good\n",
      "/home/larsvonk/Projects/IASRProject/model/src/../data/two/nicolas_30.wav not good\n",
      "/home/larsvonk/Projects/IASRProject/model/src/../data/two/yweweler_25.wav not good\n",
      "/home/larsvonk/Projects/IASRProject/model/src/../data/two/theo_11.wav not good\n",
      "four\n",
      "/home/larsvonk/Projects/IASRProject/model/src/../data/four/yweweler_8.wav not good\n",
      "six\n",
      "/home/larsvonk/Projects/IASRProject/model/src/../data/six/yweweler_27.wav not good\n",
      "/home/larsvonk/Projects/IASRProject/model/src/../data/six/nicolas_41.wav not good\n",
      "/home/larsvonk/Projects/IASRProject/model/src/../data/six/nicolas_2.wav not good\n",
      "/home/larsvonk/Projects/IASRProject/model/src/../data/six/yweweler_23.wav not good\n",
      "/home/larsvonk/Projects/IASRProject/model/src/../data/six/nicolas_40.wav not good\n",
      "/home/larsvonk/Projects/IASRProject/model/src/../data/six/nicolas_34.wav not good\n",
      "/home/larsvonk/Projects/IASRProject/model/src/../data/six/yweweler_24.wav not good\n",
      "/home/larsvonk/Projects/IASRProject/model/src/../data/six/yweweler_46.wav not good\n",
      "/home/larsvonk/Projects/IASRProject/model/src/../data/six/yweweler_47.wav not good\n",
      "/home/larsvonk/Projects/IASRProject/model/src/../data/six/nicolas_5.wav not good\n",
      "/home/larsvonk/Projects/IASRProject/model/src/../data/six/yweweler_10.wav not good\n",
      "/home/larsvonk/Projects/IASRProject/model/src/../data/six/nicolas_39.wav not good\n",
      "/home/larsvonk/Projects/IASRProject/model/src/../data/six/nicolas_23.wav not good\n",
      "/home/larsvonk/Projects/IASRProject/model/src/../data/six/nicolas_0.wav not good\n",
      "/home/larsvonk/Projects/IASRProject/model/src/../data/six/yweweler_32.wav not good\n",
      "/home/larsvonk/Projects/IASRProject/model/src/../data/six/nicolas_20.wav not good\n",
      "/home/larsvonk/Projects/IASRProject/model/src/../data/six/nicolas_18.wav not good\n",
      "/home/larsvonk/Projects/IASRProject/model/src/../data/six/nicolas_15.wav not good\n",
      "/home/larsvonk/Projects/IASRProject/model/src/../data/six/nicolas_37.wav not good\n",
      "/home/larsvonk/Projects/IASRProject/model/src/../data/six/nicolas_36.wav not good\n",
      "/home/larsvonk/Projects/IASRProject/model/src/../data/six/yweweler_1.wav not good\n",
      "/home/larsvonk/Projects/IASRProject/model/src/../data/six/nicolas_26.wav not good\n",
      "/home/larsvonk/Projects/IASRProject/model/src/../data/six/yweweler_20.wav not good\n",
      "/home/larsvonk/Projects/IASRProject/model/src/../data/six/yweweler_2.wav not good\n",
      "/home/larsvonk/Projects/IASRProject/model/src/../data/six/nicolas_21.wav not good\n",
      "/home/larsvonk/Projects/IASRProject/model/src/../data/six/yweweler_19.wav not good\n",
      "/home/larsvonk/Projects/IASRProject/model/src/../data/six/yweweler_35.wav not good\n",
      "/home/larsvonk/Projects/IASRProject/model/src/../data/six/nicolas_35.wav not good\n",
      "/home/larsvonk/Projects/IASRProject/model/src/../data/six/yweweler_3.wav not good\n",
      "/home/larsvonk/Projects/IASRProject/model/src/../data/six/nicolas_38.wav not good\n",
      "/home/larsvonk/Projects/IASRProject/model/src/../data/six/nicolas_6.wav not good\n",
      "/home/larsvonk/Projects/IASRProject/model/src/../data/six/yweweler_8.wav not good\n",
      "/home/larsvonk/Projects/IASRProject/model/src/../data/six/yweweler_4.wav not good\n",
      "/home/larsvonk/Projects/IASRProject/model/src/../data/six/nicolas_16.wav not good\n",
      "/home/larsvonk/Projects/IASRProject/model/src/../data/six/nicolas_48.wav not good\n",
      "/home/larsvonk/Projects/IASRProject/model/src/../data/six/yweweler_42.wav not good\n",
      "/home/larsvonk/Projects/IASRProject/model/src/../data/six/nicolas_42.wav not good\n",
      "/home/larsvonk/Projects/IASRProject/model/src/../data/six/nicolas_7.wav not good\n",
      "/home/larsvonk/Projects/IASRProject/model/src/../data/six/yweweler_17.wav not good\n",
      "/home/larsvonk/Projects/IASRProject/model/src/../data/six/nicolas_28.wav not good\n",
      "/home/larsvonk/Projects/IASRProject/model/src/../data/six/nicolas_45.wav not good\n",
      "/home/larsvonk/Projects/IASRProject/model/src/../data/six/yweweler_26.wav not good\n",
      "/home/larsvonk/Projects/IASRProject/model/src/../data/six/nicolas_22.wav not good\n",
      "/home/larsvonk/Projects/IASRProject/model/src/../data/six/nicolas_17.wav not good\n",
      "/home/larsvonk/Projects/IASRProject/model/src/../data/six/nicolas_19.wav not good\n",
      "/home/larsvonk/Projects/IASRProject/model/src/../data/six/yweweler_44.wav not good\n",
      "/home/larsvonk/Projects/IASRProject/model/src/../data/six/yweweler_36.wav not good\n",
      "/home/larsvonk/Projects/IASRProject/model/src/../data/six/nicolas_1.wav not good\n",
      "/home/larsvonk/Projects/IASRProject/model/src/../data/six/nicolas_29.wav not good\n",
      "/home/larsvonk/Projects/IASRProject/model/src/../data/six/nicolas_9.wav not good\n",
      "/home/larsvonk/Projects/IASRProject/model/src/../data/six/yweweler_25.wav not good\n",
      "times\n",
      "/home/larsvonk/Projects/IASRProject/model/src/../data/times/wengie_05.wav not good\n"
     ]
    },
    {
     "name": "stderr",
     "output_type": "stream",
     "text": [
      "Note: Illegal Audio-MPEG-Header 0x322c3137 at offset 96960.\n",
      "Note: Trying to resync...\n",
      "Note: Hit end of (available) data during resync.\n",
      "Note: Illegal Audio-MPEG-Header 0x332c3132 at offset 77760.\n",
      "Note: Trying to resync...\n",
      "Note: Hit end of (available) data during resync.\n"
     ]
    },
    {
     "name": "stdout",
     "output_type": "stream",
     "text": [
      "/home/larsvonk/Projects/IASRProject/model/src/../data/times/wengie_10.wav not good\n",
      "/home/larsvonk/Projects/IASRProject/model/src/../data/times/wengie_16.wav not good\n"
     ]
    },
    {
     "name": "stderr",
     "output_type": "stream",
     "text": [
      "Note: Illegal Audio-MPEG-Header 0x392c3231 at offset 79680.\n",
      "Note: Trying to resync...\n",
      "Note: Skipped 166 bytes in input.\n",
      "Note: Illegal Audio-MPEG-Header 0x31322c31 at offset 71040.\n",
      "Note: Trying to resync...\n",
      "Note: Hit end of (available) data during resync.\n",
      "Note: Illegal Audio-MPEG-Header 0x372c3534 at offset 96960.\n",
      "Note: Trying to resync...\n",
      "Note: Hit end of (available) data during resync.\n"
     ]
    },
    {
     "name": "stdout",
     "output_type": "stream",
     "text": [
      "plus\n"
     ]
    },
    {
     "name": "stderr",
     "output_type": "stream",
     "text": [
      "Note: Illegal Audio-MPEG-Header 0x312c3136 at offset 82560.\n",
      "Note: Trying to resync...\n",
      "Note: Hit end of (available) data during resync.\n",
      "Note: Illegal Audio-MPEG-Header 0x3233332c at offset 60480.\n",
      "Note: Trying to resync...\n",
      "Note: Hit end of (available) data during resync.\n",
      "Note: Illegal Audio-MPEG-Header 0x3737342c at offset 74880.\n",
      "Note: Trying to resync...\n",
      "Note: Hit end of (available) data during resync.\n",
      "Note: Illegal Audio-MPEG-Header 0x352c3338 at offset 80640.\n",
      "Note: Trying to resync...\n",
      "Note: Hit end of (available) data during resync.\n",
      "Note: Illegal Audio-MPEG-Header 0x3835392c at offset 61440.\n",
      "Note: Trying to resync...\n",
      "Note: Hit end of (available) data during resync.\n"
     ]
    },
    {
     "name": "stdout",
     "output_type": "stream",
     "text": [
      "nine\n",
      "/home/larsvonk/Projects/IASRProject/model/src/../data/nine/theo_2.wav not good\n",
      "/home/larsvonk/Projects/IASRProject/model/src/../data/nine/theo_45.wav not good\n",
      "over\n"
     ]
    },
    {
     "name": "stderr",
     "output_type": "stream",
     "text": [
      "Note: Illegal Audio-MPEG-Header 0x3437372c at offset 63360.\n",
      "Note: Trying to resync...\n",
      "Note: Hit end of (available) data during resync.\n",
      "Note: Illegal Audio-MPEG-Header 0x372c3234 at offset 63360.\n",
      "Note: Trying to resync...\n",
      "Note: Hit end of (available) data during resync.\n",
      "Note: Illegal Audio-MPEG-Header 0x30302c31 at offset 77760.\n",
      "Note: Trying to resync...\n",
      "Note: Hit end of (available) data during resync.\n",
      "Note: Illegal Audio-MPEG-Header 0x302c3133 at offset 89280.\n",
      "Note: Trying to resync...\n",
      "Note: Hit end of (available) data during resync.\n",
      "Note: Illegal Audio-MPEG-Header 0x392c3134 at offset 84480.\n",
      "Note: Trying to resync...\n",
      "Note: Hit end of (available) data during resync.\n"
     ]
    },
    {
     "name": "stdout",
     "output_type": "stream",
     "text": [
      "skipping .multiply\n"
     ]
    }
   ],
   "source": [
    "labels, X_2d_train, X_2d_test, X_1d_train, X_1d_test, y_train, y_test = make_train_data(os.path.join(os.getcwd(), \"..\", \"data\"))\n",
    "\n",
    "np.savez(\"training_data.npz\", labels=labels, X_2d_train=X_2d_train, X_2d_test=X_2d_test, X_1d_train=X_1d_train, X_1d_test=X_1d_test, y_train=y_train, y_test=y_test)"
   ]
  },
  {
   "cell_type": "markdown",
   "metadata": {},
   "source": [
    "Task 3. Neural network"
   ]
  },
  {
   "cell_type": "code",
   "execution_count": 11,
   "metadata": {},
   "outputs": [],
   "source": [
    "# DOES NOT WORK reduced_data removed\n",
    "# Load reduced set\n",
    "# labels, X_2d_train, X_2d_test, X_1d_train,  X_1d_test, y_train,y_test = np.load(\"training_data_reduced.npz\", allow_pickle=True).values()"
   ]
  },
  {
   "cell_type": "code",
   "execution_count": 12,
   "metadata": {},
   "outputs": [],
   "source": [
    "# Load whole set\n",
    "labels, X_2d_train, X_2d_test, X_1d_train,  X_1d_test, y_train,y_test = np.load(\"training_data.npz\", allow_pickle=True).values()"
   ]
  },
  {
   "cell_type": "code",
   "execution_count": 13,
   "metadata": {},
   "outputs": [
    {
     "name": "stdout",
     "output_type": "stream",
     "text": [
      "(2290, 14)\n",
      "(2290, 40, 40)\n",
      "(2290, 15)\n",
      "(405, 14)\n",
      "(405, 40, 40)\n",
      "(405, 15)\n",
      "['seven' 'zero' 'minus' 'three' 'one' 'eight' 'five' 'two' 'four' 'six'\n",
      " 'times' 'plus' 'nine' 'over']\n",
      "14\n"
     ]
    }
   ],
   "source": [
    "print(y_train.shape)\n",
    "print(X_2d_train.shape)\n",
    "print(X_1d_train.shape)\n",
    "\n",
    "print(y_test.shape)\n",
    "print(X_2d_test.shape)\n",
    "print(X_1d_test.shape)\n",
    "print(labels)\n",
    "print(len(labels))"
   ]
  },
  {
   "cell_type": "markdown",
   "metadata": {},
   "source": [
    " Example show of random feature vector"
   ]
  },
  {
   "cell_type": "code",
   "execution_count": 14,
   "metadata": {},
   "outputs": [
    {
     "data": {
      "image/png": "[encoded data removed]",
      "text/plain": [
       "<Figure size 640x480 with 1 Axes>"
      ]
     },
     "metadata": {},
     "output_type": "display_data"
    },
    {
     "data": {
      "image/png": "[encoded data removed]",
      "text/plain": [
       "<Figure size 640x480 with 1 Axes>"
      ]
     },
     "metadata": {},
     "output_type": "display_data"
    },
    {
     "name": "stderr",
     "output_type": "stream",
     "text": [
      "/tmp/ipykernel_28986/1905626958.py:14: RuntimeWarning: invalid value encountered in log10\n",
      "  plt.imshow(np.log10(X_2d_train[INDEX]))\n"
     ]
    },
    {
     "data": {
      "image/png": "[encoded data removed]",
      "text/plain": [
       "<Figure size 640x480 with 1 Axes>"
      ]
     },
     "metadata": {},
     "output_type": "display_data"
    },
    {
     "name": "stdout",
     "output_type": "stream",
     "text": [
      "[9.39852591e-01 2.36672104e+00 9.05162098e-01 4.02229614e-01\n",
      " 1.18909918e-01 7.12890625e-02 1.59179688e-01 1.38671875e-01\n",
      " 1.30859375e-01 1.03515625e-01 2.89186509e-03 1.09331543e-03\n",
      " 1.32482161e-03 5.04538883e-03 2.47283783e-02]\n",
      "nine\n"
     ]
    }
   ],
   "source": [
    "# Features from mfcc\n",
    "## Index of sample to observe\n",
    "INDEX = 2\n",
    "\n",
    "## MFCC features\n",
    "plt.imshow(X_2d_train[INDEX][:20])\n",
    "plt.show()\n",
    "\n",
    "## Delta MFCC features\n",
    "plt.imshow(X_2d_train[INDEX][21:])\n",
    "plt.show()\n",
    "\n",
    "## Logarithmic MFCC features\n",
    "plt.imshow(np.log10(X_2d_train[INDEX]))\n",
    "plt.show()\n",
    "print(X_1d_train[INDEX])\n",
    "print(labels[np.argmax(y_test[INDEX])])"
   ]
  },
  {
   "cell_type": "code",
   "execution_count": 15,
   "metadata": {},
   "outputs": [],
   "source": [
    "# Define the missing variables\n",
    "height = 40\n",
    "width = 40\n",
    "number_of_linear_values = 15\n",
    "number_of_classes = len(labels)\n",
    "\n",
    "class Net(nn.Module):\n",
    "    def __init__(self):\n",
    "        super().__init__()\n",
    "        self.conv1 = nn.Conv2d(1, 8, 7)\n",
    "        self.conv2 = nn.Conv2d(8, 16, 5)\n",
    "        self.conv3 = nn.Conv2d(16, 32, 3)\n",
    "        self.conv3_bn = nn.BatchNorm2d(32)\n",
    "\n",
    "        x = torch.randn(height,width).view(-1,1,height,width)\n",
    "        self._to_linear = None\n",
    "        self.convs(x)\n",
    "\n",
    "        self.fc1 = nn.Linear(self._to_linear + number_of_linear_values, 256)\n",
    "        self.fc1_bn = nn.BatchNorm1d(256)\n",
    "        self.fc2 = nn.Linear(256, number_of_classes) # Adjusted to match the number of classes\n",
    "\n",
    "    def convs(self, x):\n",
    "        x = F.max_pool2d(F.leaky_relu(self.conv1(x)), (2,2))\n",
    "        x = F.max_pool2d(F.leaky_relu(self.conv2(x)), (2, 2))\n",
    "        x = F.max_pool2d(F.leaky_relu(self.conv3_bn(self.conv3(x))), (2, 2))\n",
    "\n",
    "        if self._to_linear is None:\n",
    "            self._to_linear = x[0].shape[0]*x[0].shape[1]*x[0].shape[2]\n",
    "        return x\n",
    "\n",
    "    def forward(self, data_2d, data_1d):\n",
    "        data_2d = self.convs(data_2d)\n",
    "        #now new data is added to linear layers\n",
    "        data_2d = data_2d.view(-1, self._to_linear)\n",
    "        x = torch.cat((data_2d , data_1d), dim=1)\n",
    "        x = F.leaky_relu(self.fc1_bn(self.fc1(x)))\n",
    "        x = self.fc2(x)\n",
    "        return F.softmax(x, dim=1)\n"
   ]
  },
  {
   "cell_type": "code",
   "execution_count": 16,
   "metadata": {},
   "outputs": [
    {
     "name": "stdout",
     "output_type": "stream",
     "text": [
      "CPU\n"
     ]
    }
   ],
   "source": [
    "if torch.cuda.is_available():\n",
    "    device = torch.device(\"cuda:0\")\n",
    "    print(\"GPU\")\n",
    "else:\n",
    "    device = torch.device(\"cpu\")\n",
    "    print(\"CPU\")\n",
    "    \n",
    "os.environ['CUDA_VISIBLE_DEVICES']='2, 3'\n",
    "net = Net().to(device)"
   ]
  },
  {
   "cell_type": "code",
   "execution_count": 17,
   "metadata": {},
   "outputs": [],
   "source": [
    "# optimizer\n",
    "optimizer = optim.Adam(net.parameters(), lr = 0.001) #learning rate\n",
    "err_f = nn.MSELoss()\n",
    "\n",
    "train_2d_X = torch.Tensor(X_2d_train).view(-1, 40, 40)\n",
    "train_1d_X = torch.Tensor(X_1d_train)\n",
    "train_y = torch.Tensor(y_train)"
   ]
  },
  {
   "cell_type": "code",
   "execution_count": 18,
   "metadata": {},
   "outputs": [
    {
     "name": "stdout",
     "output_type": "stream",
     "text": [
      "EPOH 5/700 loss: 2.822609054122586\n",
      "EPOH 10/700 loss: 0.9747141803833074\n",
      "EPOH 15/700 loss: 0.4956812369231557\n",
      "EPOH 20/700 loss: 0.40818905582382287\n",
      "EPOH 25/700 loss: 0.6288466051914497\n"
     ]
    }
   ],
   "source": [
    "# Get the first image from your training data\n",
    "#first_image = train_X[0]\n",
    "#print(first_image.shape) #TODO: can remove this line, added for testing\n",
    "\n",
    "# Get the height and width of the first image\n",
    "height, width = train_2d_X.shape[1], train_2d_X.shape[2]\n",
    "\n",
    "#training\n",
    "BATCH_SIZE = 16\n",
    "EPOH = 700\n",
    "N = 5 #how ofter we print loss\n",
    "EPSILON = 0.0001 #if loss different under this\n",
    "\n",
    "running_loss = 0.0\n",
    "all_losses = [100]\n",
    "for epoch in range(EPOH):\n",
    "    for i in range(0, len(train_2d_X), BATCH_SIZE):\n",
    "        batch_X_2d = train_2d_X[i:i+BATCH_SIZE].view(-1,1,height,width).to(device)\n",
    "        batch_X_1d = train_1d_X[i:i+BATCH_SIZE].to(device)\n",
    "        batch_y = train_y[i:i+BATCH_SIZE].to(device)\n",
    "\n",
    "        #batch_X_2d, batch_X_1d, batch_y = batch_X_2d.to(device), batch_X_1d.to(device), batch_y.to(device)\n",
    "\n",
    "        net.zero_grad() #zero gradient\n",
    "        out = net(batch_X_2d, batch_X_1d)\n",
    "        err = err_f(out, batch_y)\n",
    "        err.backward()\n",
    "        optimizer.step()\n",
    "        \n",
    "        running_loss += err.item()\n",
    "    # Generate a permutation of indices\n",
    "    perm = torch.randperm(train_2d_X.size(0))\n",
    "    # Use the permutation to shuffle the tensors\n",
    "    train_2d_X = train_2d_X[perm]\n",
    "    train_1d_X = train_1d_X[perm]\n",
    "    train_y = train_y[perm]\n",
    "\n",
    "    if epoch % N == N-1:\n",
    "        print(\"EPOH {}/{} loss: {}\".format(epoch+1, EPOH, running_loss/N))\n",
    "        all_losses.insert(0, running_loss/N)\n",
    "        if all_losses[1]-all_losses[0] < EPSILON: #less than percent impromvenet\n",
    "            break\n",
    "        running_loss = 0.0\n",
    "    if epoch % 5*N == 5*N-1:\n",
    "        clear_output(wait=True)   "
   ]
  },
  {
   "cell_type": "code",
   "execution_count": 19,
   "metadata": {},
   "outputs": [],
   "source": [
    "# Save the reduced model\n",
    "# torch.save(net.state_dict(), 'model_reduced.pth')"
   ]
  },
  {
   "cell_type": "code",
   "execution_count": 20,
   "metadata": {},
   "outputs": [],
   "source": [
    "# Save the whole model\n",
    "torch.save(net.state_dict(), 'model.pth')"
   ]
  },
  {
   "cell_type": "markdown",
   "metadata": {},
   "source": [
    "###   Run the mode over training set"
   ]
  },
  {
   "cell_type": "code",
   "execution_count": 21,
   "metadata": {},
   "outputs": [
    {
     "data": {
      "text/plain": [
       "Net(\n",
       "  (conv1): Conv2d(1, 8, kernel_size=(7, 7), stride=(1, 1))\n",
       "  (conv2): Conv2d(8, 16, kernel_size=(5, 5), stride=(1, 1))\n",
       "  (conv3): Conv2d(16, 32, kernel_size=(3, 3), stride=(1, 1))\n",
       "  (conv3_bn): BatchNorm2d(32, eps=1e-05, momentum=0.1, affine=True, track_running_stats=True)\n",
       "  (fc1): Linear(in_features=143, out_features=256, bias=True)\n",
       "  (fc1_bn): BatchNorm1d(256, eps=1e-05, momentum=0.1, affine=True, track_running_stats=True)\n",
       "  (fc2): Linear(in_features=256, out_features=14, bias=True)\n",
       ")"
      ]
     },
     "execution_count": 21,
     "metadata": {},
     "output_type": "execute_result"
    }
   ],
   "source": [
    "net = Net().to(device)\n",
    "net.load_state_dict(torch.load('model.pth'))\n",
    "net.eval()"
   ]
  },
  {
   "cell_type": "code",
   "execution_count": 22,
   "metadata": {},
   "outputs": [
    {
     "name": "stdout",
     "output_type": "stream",
     "text": [
      "eight ; eight\n",
      "nine ; nine\n",
      "nine ; nine\n",
      "one ; one\n",
      "three ; three\n",
      "four ; four\n",
      "one ; one\n",
      "five ; five\n",
      "seven ; seven\n",
      "six ; six\n",
      "three ; three\n",
      "seven ; seven\n",
      "seven ; seven\n",
      "minus ; minus\n",
      "one ; one\n",
      "one ; one\n",
      "eight ; eight\n",
      "four ; four\n",
      "one ; times\n",
      "over ; over\n",
      "plus ; plus\n",
      "four ; four\n",
      "one ; one\n",
      "eight ; eight\n",
      "one ; one\n",
      "minus ; minus\n",
      "six ; six\n",
      "three ; three\n",
      "three ; three\n",
      "five ; five\n",
      "plus ; plus\n",
      "five ; five\n",
      "two ; two\n",
      "three ; three\n",
      "seven ; seven\n",
      "four ; four\n",
      "minus ; minus\n",
      "four ; four\n",
      "four ; four\n",
      "seven ; seven\n",
      "seven ; seven\n",
      "one ; five\n",
      "one ; one\n",
      "times ; times\n",
      "times ; times\n",
      "five ; five\n",
      "one ; one\n",
      "minus ; minus\n",
      "zero ; zero\n",
      "over ; minus\n",
      "times ; nine\n",
      "times ; times\n",
      "five ; five\n",
      "three ; three\n",
      "seven ; zero\n",
      "over ; over\n",
      "one ; one\n",
      "eight ; eight\n",
      "five ; five\n",
      "six ; six\n",
      "over ; over\n",
      "minus ; minus\n",
      "minus ; minus\n",
      "two ; two\n",
      "four ; four\n",
      "zero ; zero\n",
      "plus ; plus\n",
      "five ; five\n",
      "four ; four\n",
      "nine ; minus\n",
      "one ; one\n",
      "zero ; zero\n",
      "six ; six\n",
      "four ; four\n",
      "nine ; nine\n",
      "seven ; seven\n",
      "six ; six\n",
      "one ; one\n",
      "over ; over\n",
      "seven ; seven\n",
      "times ; times\n",
      "times ; times\n",
      "one ; one\n",
      "eight ; eight\n",
      "two ; two\n",
      "plus ; plus\n",
      "zero ; zero\n",
      "over ; over\n",
      "four ; four\n",
      "one ; nine\n",
      "eight ; eight\n",
      "minus ; minus\n",
      "zero ; zero\n",
      "plus ; minus\n",
      "five ; five\n",
      "plus ; plus\n",
      "over ; over\n",
      "eight ; eight\n",
      "eight ; eight\n",
      "five ; five\n",
      "over ; over\n",
      "one ; one\n",
      "two ; two\n",
      "five ; five\n",
      "minus ; minus\n",
      "seven ; seven\n",
      "two ; six\n",
      "zero ; zero\n",
      "three ; three\n",
      "three ; three\n",
      "four ; four\n",
      "zero ; zero\n",
      "times ; times\n",
      "eight ; eight\n",
      "one ; one\n",
      "one ; one\n",
      "one ; one\n",
      "three ; three\n",
      "four ; four\n",
      "nine ; nine\n",
      "two ; two\n",
      "minus ; minus\n",
      "five ; five\n",
      "minus ; minus\n",
      "one ; one\n",
      "eight ; eight\n",
      "three ; three\n",
      "four ; four\n",
      "minus ; minus\n",
      "three ; three\n",
      "over ; over\n",
      "eight ; eight\n",
      "one ; one\n",
      "zero ; zero\n",
      "seven ; two\n",
      "times ; times\n",
      "nine ; nine\n",
      "six ; six\n",
      "five ; five\n",
      "zero ; zero\n",
      "four ; four\n",
      "zero ; zero\n",
      "eight ; eight\n",
      "seven ; seven\n",
      "four ; four\n",
      "four ; four\n",
      "two ; two\n",
      "nine ; nine\n",
      "three ; three\n",
      "zero ; zero\n",
      "eight ; eight\n",
      "seven ; seven\n",
      "over ; over\n",
      "over ; over\n",
      "four ; four\n",
      "plus ; plus\n",
      "zero ; over\n",
      "minus ; plus\n",
      "over ; over\n",
      "over ; over\n",
      "four ; four\n",
      "eight ; eight\n",
      "seven ; seven\n",
      "six ; six\n",
      "four ; four\n",
      "eight ; eight\n",
      "five ; five\n",
      "over ; over\n",
      "nine ; nine\n",
      "zero ; zero\n",
      "eight ; eight\n",
      "four ; four\n",
      "one ; one\n",
      "eight ; eight\n",
      "two ; two\n",
      "over ; plus\n",
      "one ; one\n",
      "over ; over\n",
      "three ; three\n",
      "one ; one\n",
      "six ; six\n",
      "nine ; nine\n",
      "eight ; eight\n",
      "three ; three\n",
      "minus ; minus\n",
      "seven ; seven\n",
      "three ; three\n",
      "seven ; zero\n",
      "four ; four\n",
      "nine ; three\n",
      "zero ; zero\n",
      "plus ; plus\n",
      "six ; three\n",
      "minus ; minus\n",
      "one ; one\n",
      "times ; times\n",
      "times ; times\n",
      "eight ; eight\n",
      "five ; five\n",
      "seven ; seven\n",
      "zero ; three\n",
      "plus ; plus\n",
      "two ; two\n",
      "eight ; eight\n",
      "six ; six\n",
      "four ; four\n",
      "times ; minus\n",
      "two ; two\n",
      "two ; two\n",
      "eight ; eight\n",
      "zero ; zero\n",
      "five ; five\n",
      "over ; over\n",
      "four ; four\n",
      "two ; seven\n",
      "zero ; zero\n",
      "over ; over\n",
      "seven ; seven\n",
      "nine ; nine\n",
      "eight ; eight\n",
      "seven ; times\n",
      "times ; times\n",
      "eight ; eight\n",
      "minus ; minus\n",
      "two ; two\n",
      "times ; times\n",
      "eight ; eight\n",
      "times ; times\n",
      "four ; four\n",
      "seven ; seven\n",
      "six ; six\n",
      "seven ; seven\n",
      "seven ; seven\n",
      "zero ; zero\n",
      "over ; four\n",
      "five ; five\n",
      "nine ; nine\n",
      "four ; four\n",
      "seven ; seven\n",
      "four ; four\n",
      "one ; one\n",
      "one ; one\n",
      "one ; one\n",
      "six ; six\n",
      "three ; three\n",
      "five ; five\n",
      "seven ; seven\n",
      "four ; over\n",
      "plus ; plus\n",
      "nine ; nine\n",
      "one ; one\n",
      "seven ; seven\n",
      "three ; three\n",
      "zero ; zero\n",
      "six ; six\n",
      "plus ; plus\n",
      "over ; over\n",
      "three ; three\n",
      "nine ; nine\n",
      "three ; three\n",
      "seven ; seven\n",
      "minus ; minus\n",
      "five ; five\n",
      "plus ; plus\n",
      "eight ; eight\n",
      "three ; three\n",
      "three ; three\n",
      "five ; minus\n",
      "seven ; seven\n",
      "zero ; zero\n",
      "four ; four\n",
      "nine ; nine\n",
      "nine ; nine\n",
      "over ; over\n",
      "six ; eight\n",
      "four ; four\n",
      "four ; four\n",
      "four ; four\n",
      "seven ; seven\n",
      "plus ; plus\n",
      "times ; times\n",
      "seven ; seven\n",
      "nine ; nine\n",
      "zero ; zero\n",
      "six ; six\n",
      "one ; one\n",
      "one ; one\n",
      "plus ; plus\n",
      "nine ; nine\n",
      "zero ; zero\n",
      "one ; one\n",
      "four ; four\n",
      "two ; three\n",
      "seven ; seven\n",
      "six ; six\n",
      "four ; four\n",
      "two ; two\n",
      "minus ; plus\n",
      "minus ; minus\n",
      "plus ; plus\n",
      "eight ; eight\n",
      "times ; times\n",
      "three ; three\n",
      "eight ; eight\n",
      "zero ; zero\n",
      "seven ; seven\n",
      "zero ; zero\n",
      "three ; three\n",
      "six ; six\n",
      "plus ; plus\n",
      "over ; over\n",
      "seven ; seven\n",
      "zero ; zero\n",
      "eight ; eight\n",
      "seven ; seven\n",
      "three ; three\n",
      "five ; five\n",
      "four ; four\n",
      "plus ; plus\n",
      "plus ; minus\n",
      "minus ; minus\n",
      "five ; five\n",
      "plus ; plus\n",
      "two ; two\n",
      "four ; four\n",
      "minus ; minus\n",
      "four ; four\n",
      "times ; times\n",
      "over ; over\n",
      "zero ; eight\n",
      "one ; one\n",
      "six ; six\n",
      "nine ; nine\n",
      "over ; over\n",
      "two ; two\n",
      "one ; one\n",
      "times ; times\n",
      "one ; one\n",
      "nine ; nine\n",
      "six ; six\n",
      "four ; four\n",
      "eight ; eight\n",
      "zero ; zero\n",
      "seven ; seven\n",
      "nine ; nine\n",
      "times ; times\n",
      "seven ; seven\n",
      "six ; six\n",
      "nine ; nine\n",
      "times ; times\n",
      "six ; six\n",
      "minus ; minus\n",
      "five ; five\n",
      "zero ; zero\n",
      "six ; six\n",
      "seven ; seven\n",
      "two ; times\n",
      "minus ; minus\n",
      "plus ; plus\n",
      "times ; times\n",
      "one ; one\n",
      "plus ; plus\n",
      "over ; over\n",
      "seven ; seven\n",
      "zero ; zero\n",
      "nine ; nine\n",
      "four ; four\n",
      "zero ; zero\n",
      "eight ; eight\n",
      "minus ; minus\n",
      "nine ; nine\n",
      "two ; two\n",
      "zero ; zero\n",
      "nine ; nine\n",
      "eight ; eight\n",
      "two ; two\n",
      "over ; plus\n",
      "plus ; seven\n",
      "plus ; plus\n",
      "zero ; zero\n",
      "one ; one\n",
      "zero ; zero\n",
      "five ; five\n",
      "seven ; seven\n",
      "minus ; minus\n",
      "two ; two\n",
      "one ; one\n",
      "minus ; minus\n",
      "four ; four\n",
      "over ; over\n",
      "six ; six\n",
      "seven ; seven\n",
      "one ; one\n",
      "four ; four\n",
      "times ; times\n",
      "three ; three\n",
      "two ; two\n",
      "one ; one\n",
      "plus ; plus\n",
      "times ; times\n",
      "seven ; seven\n",
      "zero ; zero\n",
      "over ; over\n",
      "five ; five\n",
      "eight ; eight\n",
      "0.07654320987654321\n"
     ]
    },
    {
     "data": {
      "image/png": "[encoded data removed]",
      "text/plain": [
       "<Figure size 640x480 with 2 Axes>"
      ]
     },
     "metadata": {},
     "output_type": "display_data"
    }
   ],
   "source": [
    "missclassified = 0\n",
    "actual = []\n",
    "predicted = []\n",
    "\n",
    "with torch.no_grad():\n",
    "    data_2d = torch.Tensor(X_2d_test).view(-1,1,height,width).to(device) #flatten\n",
    "    data_1d = torch.Tensor(X_1d_test).to(device)\n",
    "    #data_2d = data_2d.view(-1,1,height,width)\n",
    "    output = net(data_2d, data_1d).to(device).cpu()\n",
    "\n",
    "    for i in range(output.shape[0]):\n",
    "        classification = torch.argmax(output[i])\n",
    "        base_truth = np.argmax(y_test[i])\n",
    "        predicted.append(classification)\n",
    "        actual.append(base_truth)\n",
    "        print(\"{} ; {}\".format(labels[base_truth], labels[classification]))\n",
    "        if base_truth != classification:\n",
    "            missclassified += 1\n",
    "\n",
    "print(missclassified / y_test.shape[0])\n",
    "confusion_matrix = metrics.confusion_matrix(actual, predicted)\n",
    "\n",
    "cm_display = metrics.ConfusionMatrixDisplay(confusion_matrix = confusion_matrix, display_labels = labels)\n",
    "cm_display.plot()\n",
    "plt.show()"
   ]
  },
  {
   "cell_type": "markdown",
   "metadata": {},
   "source": [
    "# Record new data"
   ]
  },
  {
   "cell_type": "code",
   "execution_count": 23,
   "metadata": {},
   "outputs": [
    {
     "name": "stdout",
     "output_type": "stream",
     "text": [
      "Recording: start speaking...\n"
     ]
    }
   ],
   "source": [
    "import os\n",
    "import sounddevice as sd\n",
    "from scipy.io import wavfile \n",
    "\n",
    "freq = 44100\n",
    "duration = 3\n",
    "\n",
    "try:\n",
    "    recording = sd.rec(int(duration * freq), samplerate=freq, channels=2)\n",
    "    print(\"Recording: start speaking...\")\n",
    "\n",
    "    sd.wait()\n",
    "\n",
    "    filepath = os.path.join(os.getcwd(), \"..\", \"input\", \"input.wav\")\n",
    "    wavfile.write(filepath, freq, recording)  # Fix the function call\n",
    "\n",
    "except Exception as e:\n",
    "    print(\"An error occurred:\", e)"
   ]
  },
  {
   "cell_type": "markdown",
   "metadata": {},
   "source": [
    "    Example of classification pipeline"
   ]
  },
  {
   "cell_type": "code",
   "execution_count": 24,
   "metadata": {},
   "outputs": [
    {
     "name": "stdout",
     "output_type": "stream",
     "text": [
      "five\n"
     ]
    },
    {
     "name": "stderr",
     "output_type": "stream",
     "text": [
      "/home/larsvonk/.local/lib/python3.10/site-packages/numpy/core/fromnumeric.py:3504: RuntimeWarning: Mean of empty slice.\n",
      "  return _methods._mean(a, axis=axis, dtype=dtype,\n",
      "/home/larsvonk/.local/lib/python3.10/site-packages/numpy/core/_methods.py:129: RuntimeWarning: invalid value encountered in scalar divide\n",
      "  ret = ret.dtype.type(ret / rcount)\n"
     ]
    }
   ],
   "source": [
    "# Read new data and classify\n",
    "clip, sr = librosa.load(filepath)\n",
    "clip = librosa.resample(clip, orig_sr=sr, target_sr=8000)\n",
    "clip = librosa.to_mono(clip)\n",
    "clip = librosa.util.normalize(clip)\n",
    "clip = get_voiced_parts(clip,8000)\n",
    "clip = add_preemphasis_filter(clip)\n",
    "features_2d = get_2d_features(clip, 8000)\n",
    "features_2d = torch.Tensor(features_2d).view(-1,1,height,width).to(device)\n",
    "features_1d = torch.Tensor(get_1d_features(clip, 8000))\n",
    "features_1d = torch.unsqueeze(features_1d, dim = 0).to(device) #change the shape of the tensor\n",
    "out = net(features_2d, features_1d)\n",
    "classification = torch.argmax(out)\n",
    "print(labels[classification])"
   ]
  },
  {
   "cell_type": "code",
   "execution_count": 25,
   "metadata": {},
   "outputs": [],
   "source": [
    "#hear the  snipped clip\n",
    "sd.play(clip,8000)\n",
    "sd.wait()"
   ]
  }
 ],
 "metadata": {
  "kernelspec": {
   "display_name": "Python 3",
   "language": "python",
   "name": "python3"
  },
  "language_info": {
   "codemirror_mode": {
    "name": "ipython",
    "version": 3
   },
   "file_extension": ".py",
   "mimetype": "text/x-python",
   "name": "python",
   "nbconvert_exporter": "python",
   "pygments_lexer": "ipython3",
   "version": "3.10.12"
  }
 },
 "nbformat": 4,
 "nbformat_minor": 2
}
