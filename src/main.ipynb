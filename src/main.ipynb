{
 "cells": [
  {
   "cell_type": "code",
   "execution_count": 1,
   "metadata": {},
   "outputs": [],
   "source": [
    "# Import libraries\n",
    "import os\n",
    "import librosa\n",
    "import csv"
   ]
  },
  {
   "cell_type": "code",
   "execution_count": 2,
   "metadata": {},
   "outputs": [],
   "source": [
    "# Read file names\n",
    "path = os.path\n",
    "files = {}\n",
    "\n",
    "data_dir = os.listdir(\n",
    "    path.join(os.getcwd(), '..', 'data')\n",
    ")\n",
    "\n",
    "for dir in data_dir:\n",
    "    audio_files = os.listdir(\n",
    "        path.join(os.getcwd(), '..', 'data', dir)\n",
    "    )\n",
    "\n",
    "    files[dir] = []\n",
    "    files[dir].append(audio_files)"
   ]
  },
  {
   "cell_type": "code",
   "execution_count": 3,
   "metadata": {},
   "outputs": [],
   "source": [
    "# Read audio signals\n",
    "f = open('data.csv', 'w')\n",
    "writer = csv.writer(f)\n",
    "\n",
    "writer.writerow(['label', 'feature 1', 'feature 2', 'feature 3'])\n",
    "\n",
    "for dir in files:\n",
    "    for file in files[dir][0]:\n",
    "        audio, sr = librosa.core.load(\n",
    "            path.join(os.getcwd(), '..', 'data', dir, file)\n",
    "        )\n",
    "\n",
    "        writer.writerow([dir, audio[0], audio[1], audio[2]])"
   ]
  }
 ],
 "metadata": {
  "kernelspec": {
   "display_name": "Python 3",
   "language": "python",
   "name": "python3"
  },
  "language_info": {
   "codemirror_mode": {
    "name": "ipython",
    "version": 3
   },
   "file_extension": ".py",
   "mimetype": "text/x-python",
   "name": "python",
   "nbconvert_exporter": "python",
   "pygments_lexer": "ipython3",
   "version": "3.10.12"
  }
 },
 "nbformat": 4,
 "nbformat_minor": 2
}
